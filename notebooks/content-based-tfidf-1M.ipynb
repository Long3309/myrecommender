{
 "cells": [
  {
   "cell_type": "code",
   "execution_count": 1,
   "metadata": {},
   "outputs": [],
   "source": [
    "import pandas as pd"
   ]
  },
  {
   "cell_type": "code",
   "execution_count": 19,
   "metadata": {},
   "outputs": [
    {
     "name": "stderr",
     "output_type": "stream",
     "text": [
      "C:\\Users\\ADMIN\\AppData\\Local\\Temp\\ipykernel_11172\\1177304968.py:1: ParserWarning: Falling back to the 'python' engine because the 'c' engine does not support regex separators (separators > 1 char and different from '\\s+' are interpreted as regex); you can avoid this warning by specifying engine='python'.\n",
      "  pd.read_csv(r\"../data\\movielens_1M\\movies.dat\", encoding=\"latin-1\", sep=\"''\\t\")\n"
     ]
    },
    {
     "data": {
      "text/html": [
       "<div>\n",
       "<style scoped>\n",
       "    .dataframe tbody tr th:only-of-type {\n",
       "        vertical-align: middle;\n",
       "    }\n",
       "\n",
       "    .dataframe tbody tr th {\n",
       "        vertical-align: top;\n",
       "    }\n",
       "\n",
       "    .dataframe thead th {\n",
       "        text-align: right;\n",
       "    }\n",
       "</style>\n",
       "<table border=\"1\" class=\"dataframe\">\n",
       "  <thead>\n",
       "    <tr style=\"text-align: right;\">\n",
       "      <th></th>\n",
       "      <th>1\\tToy Story (1995)\\tAnimation|Children's|Comedy</th>\n",
       "    </tr>\n",
       "  </thead>\n",
       "  <tbody>\n",
       "    <tr>\n",
       "      <th>0</th>\n",
       "      <td>2\\tJumanji (1995)\\tAdventure|Children's|Fantasy</td>\n",
       "    </tr>\n",
       "    <tr>\n",
       "      <th>1</th>\n",
       "      <td>3\\tGrumpier Old Men (1995)\\tComedy|Romance</td>\n",
       "    </tr>\n",
       "    <tr>\n",
       "      <th>2</th>\n",
       "      <td>4\\tWaiting to Exhale (1995)\\tComedy|Drama</td>\n",
       "    </tr>\n",
       "    <tr>\n",
       "      <th>3</th>\n",
       "      <td>5\\tFather of the Bride Part II (1995)\\tComedy</td>\n",
       "    </tr>\n",
       "    <tr>\n",
       "      <th>4</th>\n",
       "      <td>6\\tHeat (1995)\\tAction|Crime|Thriller</td>\n",
       "    </tr>\n",
       "    <tr>\n",
       "      <th>...</th>\n",
       "      <td>...</td>\n",
       "    </tr>\n",
       "    <tr>\n",
       "      <th>3877</th>\n",
       "      <td>3948\\tMeet the Parents (2000)\\tComedy</td>\n",
       "    </tr>\n",
       "    <tr>\n",
       "      <th>3878</th>\n",
       "      <td>3949\\tRequiem for a Dream (2000)\\tDrama</td>\n",
       "    </tr>\n",
       "    <tr>\n",
       "      <th>3879</th>\n",
       "      <td>3950\\tTigerland (2000)\\tDrama</td>\n",
       "    </tr>\n",
       "    <tr>\n",
       "      <th>3880</th>\n",
       "      <td>3951\\tTwo Family House (2000)\\tDrama</td>\n",
       "    </tr>\n",
       "    <tr>\n",
       "      <th>3881</th>\n",
       "      <td>3952\\tContender, The (2000)\\tDrama|Thriller</td>\n",
       "    </tr>\n",
       "  </tbody>\n",
       "</table>\n",
       "<p>3882 rows × 1 columns</p>\n",
       "</div>"
      ],
      "text/plain": [
       "     1\\tToy Story (1995)\\tAnimation|Children's|Comedy\n",
       "0     2\\tJumanji (1995)\\tAdventure|Children's|Fantasy\n",
       "1          3\\tGrumpier Old Men (1995)\\tComedy|Romance\n",
       "2           4\\tWaiting to Exhale (1995)\\tComedy|Drama\n",
       "3       5\\tFather of the Bride Part II (1995)\\tComedy\n",
       "4               6\\tHeat (1995)\\tAction|Crime|Thriller\n",
       "...                                               ...\n",
       "3877            3948\\tMeet the Parents (2000)\\tComedy\n",
       "3878          3949\\tRequiem for a Dream (2000)\\tDrama\n",
       "3879                    3950\\tTigerland (2000)\\tDrama\n",
       "3880             3951\\tTwo Family House (2000)\\tDrama\n",
       "3881      3952\\tContender, The (2000)\\tDrama|Thriller\n",
       "\n",
       "[3882 rows x 1 columns]"
      ]
     },
     "execution_count": 19,
     "metadata": {},
     "output_type": "execute_result"
    }
   ],
   "source": [
    "pd.read_csv(r\"../data\\movielens_1M\\movies.dat\", encoding=\"latin-1\", sep=\"\")"
   ]
  },
  {
   "cell_type": "code",
   "execution_count": 4,
   "metadata": {},
   "outputs": [],
   "source": [
    "rating = pd.read_csv(\"../enrich/ratings.csv\")"
   ]
  },
  {
   "cell_type": "code",
   "execution_count": 12,
   "metadata": {},
   "outputs": [
    {
     "data": {
      "text/plain": [
       "3882"
      ]
     },
     "execution_count": 12,
     "metadata": {},
     "output_type": "execute_result"
    }
   ],
   "source": [
    "max(sorted(rating[\"movieId\"].unique()))"
   ]
  }
 ],
 "metadata": {
  "kernelspec": {
   "display_name": "recommender-systems",
   "language": "python",
   "name": "python3"
  },
  "language_info": {
   "codemirror_mode": {
    "name": "ipython",
    "version": 3
   },
   "file_extension": ".py",
   "mimetype": "text/x-python",
   "name": "python",
   "nbconvert_exporter": "python",
   "pygments_lexer": "ipython3",
   "version": "3.10.13"
  }
 },
 "nbformat": 4,
 "nbformat_minor": 2
}
