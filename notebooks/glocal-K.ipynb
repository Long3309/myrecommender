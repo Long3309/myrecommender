{
 "cells": [
  {
   "cell_type": "code",
   "execution_count": 65,
   "metadata": {},
   "outputs": [
    {
     "name": "stdout",
     "output_type": "stream",
     "text": [
      "Tensorflow verison: 2.15.0\n"
     ]
    }
   ],
   "source": [
    "from time import time\n",
    "from scipy.sparse import csc_matrix\n",
    "import tensorflow as tf\n",
    "import keras\n",
    "import numpy as np\n",
    "import h5py\n",
    "import pandas as pd\n",
    "print(\"Tensorflow verison:\", tf.__version__)\n"
   ]
  },
  {
   "cell_type": "code",
   "execution_count": 42,
   "metadata": {},
   "outputs": [],
   "source": [
    "\n",
    "def load_data_1m(path='./', delimiter='::', frac=0.1, seed=1234):\n",
    "\n",
    "    tic = time()\n",
    "    print('reading data...')\n",
    "    data = np.loadtxt(path+'movielens_1m_dataset.dat', skiprows=0, delimiter=delimiter).astype('int32')\n",
    "    print('taken', time() - tic, 'seconds')\n",
    "\n",
    "    n_u = np.unique(data[:,0]).size  # num of users\n",
    "    n_m = np.unique(data[:,1]).size  # num of movies\n",
    "    n_r = data.shape[0]  # num of ratings\n",
    "\n",
    "    udict = {}\n",
    "    for i, u in enumerate(np.unique(data[:,0]).tolist()):\n",
    "        udict[u] = i\n",
    "    mdict = {}\n",
    "    for i, m in enumerate(np.unique(data[:,1]).tolist()):\n",
    "        mdict[m] = i\n",
    "\n",
    "    np.random.seed(seed)\n",
    "    idx = np.arange(n_r)\n",
    "    np.random.shuffle(idx)\n",
    "\n",
    "    train_r = np.zeros((n_m, n_u), dtype='float32')\n",
    "    test_r = np.zeros((n_m, n_u), dtype='float32')\n",
    "\n",
    "    for i in range(n_r):\n",
    "        u_id = data[idx[i], 0]\n",
    "        m_id = data[idx[i], 1]\n",
    "        r = data[idx[i], 2]\n",
    "\n",
    "        if i < int(frac * n_r):\n",
    "            test_r[mdict[m_id], udict[u_id]] = r\n",
    "        else:\n",
    "            train_r[mdict[m_id], udict[u_id]] = r\n",
    "\n",
    "    train_m = np.greater(train_r, 1e-12).astype('float32')  # masks indicating non-zero entries\n",
    "    test_m = np.greater(test_r, 1e-12).astype('float32')\n",
    "\n",
    "    print('data matrix loaded')\n",
    "    print('num of users: {}'.format(n_u))\n",
    "    print('num of movies: {}'.format(n_m))\n",
    "    print('num of training ratings: {}'.format(n_r - int(frac * n_r)))\n",
    "    print('num of test ratings: {}'.format(int(frac * n_r)))\n",
    "\n",
    "    return n_m, n_u, train_r, train_m, test_r, test_m"
   ]
  },
  {
   "cell_type": "code",
   "execution_count": 43,
   "metadata": {},
   "outputs": [
    {
     "name": "stdout",
     "output_type": "stream",
     "text": [
      "reading data...\n",
      "taken 0.7960717678070068 seconds\n",
      "data matrix loaded\n",
      "num of users: 6040\n",
      "num of movies: 3706\n",
      "num of training ratings: 900189\n",
      "num of test ratings: 100020\n"
     ]
    }
   ],
   "source": [
    "path =  '../data/movielens_1M/'\n",
    "n_m, n_u, train_r, train_m, test_r, test_m = load_data_1m(path=path, delimiter=':', frac=0.1, seed=1234)"
   ]
  },
  {
   "cell_type": "markdown",
   "metadata": {},
   "source": [
    "# Hyperparameter Settings"
   ]
  },
  {
   "cell_type": "code",
   "execution_count": 44,
   "metadata": {},
   "outputs": [],
   "source": [
    "# Common hyperparameter settings\n",
    "n_hid = 500\n",
    "n_dim = 5\n",
    "n_layers = 2\n",
    "gk_size = 3\n",
    "lambda_2 = 70.\n",
    "lambda_s = 0.018\n",
    "iter_p = 50\n",
    "iter_f = 10\n",
    "epoch_p = 20\n",
    "epoch_f = 30\n",
    "dot_scale = 0.5"
   ]
  },
  {
   "cell_type": "code",
   "execution_count": 45,
   "metadata": {},
   "outputs": [],
   "source": [
    "tf.compat.v1.disable_eager_execution()\n",
    "R = tf.compat.v1.placeholder(\"float\", [n_m, n_u])"
   ]
  },
  {
   "cell_type": "markdown",
   "metadata": {},
   "source": [
    "# Network Function"
   ]
  },
  {
   "cell_type": "code",
   "execution_count": 46,
   "metadata": {},
   "outputs": [],
   "source": [
    "def local_kernel(u, v):\n",
    "    \n",
    "    dist = tf.norm(u - v, ord=2, axis=2)\n",
    "    hat = tf.maximum(0., 1. - dist**2)\n",
    "\n",
    "    return hat"
   ]
  },
  {
   "cell_type": "code",
   "execution_count": 70,
   "metadata": {},
   "outputs": [],
   "source": [
    "def kernel_layer(x, n_hid=n_hid, n_dim=n_dim, activation=tf.nn.sigmoid, lambda_s=lambda_s, lambda_2=lambda_2, name=''):\n",
    "    \n",
    "    with tf.compat.v1.variable_scope(name, reuse=tf.compat.v1.AUTO_REUSE):\n",
    "        W = tf.compat.v1.get_variable('W', [x.shape[1], n_hid])\n",
    "        n_in = x.get_shape().as_list()[1]\n",
    "        u = tf.compat.v1.get_variable('u', initializer=tf.random.truncated_normal([n_in, 1, n_dim], 0., 1e-3))\n",
    "        v = tf.compat.v1.get_variable('v', initializer=tf.random.truncated_normal([1, n_hid, n_dim], 0., 1e-3))\n",
    "        b = tf.compat.v1.get_variable('b', [n_hid])\n",
    "\n",
    "    w_hat = local_kernel(u, v)\n",
    "    \n",
    "    sparse_reg = keras.regularizers.l2(lambda_s)\n",
    "    sparse_reg_term = keras.regularizers(sparse_reg, [w_hat])\n",
    "    \n",
    "    l2_reg = keras.regularizers.l2(lambda_2)\n",
    "    l2_reg_term = tf.keras.regularizers(l2_reg, [W])\n",
    "\n",
    "    W_eff = W * w_hat  # Local kernelised weight matrix\n",
    "    y = tf.matmul(x, W_eff) + b\n",
    "    y = activation(y)\n",
    "\n",
    "    return y, sparse_reg_term + l2_reg_term"
   ]
  },
  {
   "cell_type": "code",
   "execution_count": 69,
   "metadata": {},
   "outputs": [
    {
     "ename": "TypeError",
     "evalue": "Regularizer() takes no arguments",
     "output_type": "error",
     "traceback": [
      "\u001b[1;31m---------------------------------------------------------------------------\u001b[0m",
      "\u001b[1;31mTypeError\u001b[0m                                 Traceback (most recent call last)",
      "\u001b[1;32mc:\\Users\\ADMIN\\Documents\\GitHub\\myrecommender\\notebooks\\glocal-K.ipynb Cell 10\u001b[0m line \u001b[0;36m1\n\u001b[1;32m----> <a href='vscode-notebook-cell:/c%3A/Users/ADMIN/Documents/GitHub/myrecommender/notebooks/glocal-K.ipynb#X26sZmlsZQ%3D%3D?line=0'>1</a>\u001b[0m keras\u001b[39m.\u001b[39;49mregularizers\u001b[39m.\u001b[39;49mRegularizer(\u001b[39m0.018\u001b[39;49m)\n",
      "\u001b[1;31mTypeError\u001b[0m: Regularizer() takes no arguments"
     ]
    }
   ],
   "source": [
    "keras.regularizers.Regularizer(0.018)"
   ]
  },
  {
   "cell_type": "code",
   "execution_count": 53,
   "metadata": {},
   "outputs": [],
   "source": [
    "def global_kernel(input, gk_size, dot_scale):\n",
    "    \n",
    "    avg_pooling = tf.reduce_mean(input, axis=1)  # Item (axis=1) based average pooling\n",
    "    avg_pooling = tf.reshape(avg_pooling, [1, -1])\n",
    "    n_kernel = avg_pooling.shape[1].value\n",
    "\n",
    "    conv_kernel = tf.compat.v1.get_variable('conv_kernel', initializer=tf.random.truncated_normal([n_kernel, gk_size**2], stddev=0.1))\n",
    "    gk = tf.matmul(avg_pooling, conv_kernel) * dot_scale  # Scaled dot product\n",
    "    gk = tf.reshape(gk, [gk_size, gk_size, 1, 1])\n",
    "\n",
    "    return gk"
   ]
  },
  {
   "cell_type": "code",
   "execution_count": 54,
   "metadata": {},
   "outputs": [],
   "source": [
    "def global_conv(input, W):\n",
    "    \n",
    "    input = tf.reshape(input, [1, input.shape[0], input.shape[1], 1])\n",
    "    conv2d = tf.nn.relu(tf.nn.conv2d(input, W, strides=[1,1,1,1], padding='SAME'))\n",
    "\n",
    "    return tf.reshape(conv2d, [conv2d.shape[1], conv2d.shape[2]])"
   ]
  },
  {
   "cell_type": "code",
   "execution_count": 71,
   "metadata": {},
   "outputs": [
    {
     "name": "stdout",
     "output_type": "stream",
     "text": [
      "<tf.Variable '0/u:0' shape=(6040, 1, 5) dtype=float32>\n"
     ]
    },
    {
     "ename": "TypeError",
     "evalue": "'module' object is not callable",
     "output_type": "error",
     "traceback": [
      "\u001b[1;31m---------------------------------------------------------------------------\u001b[0m",
      "\u001b[1;31mTypeError\u001b[0m                                 Traceback (most recent call last)",
      "\u001b[1;32mc:\\Users\\ADMIN\\Documents\\GitHub\\myrecommender\\notebooks\\glocal-K.ipynb Cell 13\u001b[0m line \u001b[0;36m5\n\u001b[0;32m      <a href='vscode-notebook-cell:/c%3A/Users/ADMIN/Documents/GitHub/myrecommender/notebooks/glocal-K.ipynb#X22sZmlsZQ%3D%3D?line=1'>2</a>\u001b[0m reg_losses \u001b[39m=\u001b[39m \u001b[39mNone\u001b[39;00m\n\u001b[0;32m      <a href='vscode-notebook-cell:/c%3A/Users/ADMIN/Documents/GitHub/myrecommender/notebooks/glocal-K.ipynb#X22sZmlsZQ%3D%3D?line=3'>4</a>\u001b[0m \u001b[39mfor\u001b[39;00m i \u001b[39min\u001b[39;00m \u001b[39mrange\u001b[39m(n_layers):\n\u001b[1;32m----> <a href='vscode-notebook-cell:/c%3A/Users/ADMIN/Documents/GitHub/myrecommender/notebooks/glocal-K.ipynb#X22sZmlsZQ%3D%3D?line=4'>5</a>\u001b[0m     y, reg_loss \u001b[39m=\u001b[39m kernel_layer(y, name\u001b[39m=\u001b[39;49m\u001b[39mstr\u001b[39;49m(i))\n\u001b[0;32m      <a href='vscode-notebook-cell:/c%3A/Users/ADMIN/Documents/GitHub/myrecommender/notebooks/glocal-K.ipynb#X22sZmlsZQ%3D%3D?line=5'>6</a>\u001b[0m     reg_losses \u001b[39m=\u001b[39m reg_loss \u001b[39mif\u001b[39;00m reg_losses \u001b[39mis\u001b[39;00m \u001b[39mNone\u001b[39;00m \u001b[39melse\u001b[39;00m reg_losses \u001b[39m+\u001b[39m reg_loss\n\u001b[0;32m      <a href='vscode-notebook-cell:/c%3A/Users/ADMIN/Documents/GitHub/myrecommender/notebooks/glocal-K.ipynb#X22sZmlsZQ%3D%3D?line=7'>8</a>\u001b[0m pred_p, reg_loss \u001b[39m=\u001b[39m kernel_layer(y, n_u, activation\u001b[39m=\u001b[39mtf\u001b[39m.\u001b[39midentity, name\u001b[39m=\u001b[39m\u001b[39m'\u001b[39m\u001b[39mout\u001b[39m\u001b[39m'\u001b[39m)\n",
      "\u001b[1;32mc:\\Users\\ADMIN\\Documents\\GitHub\\myrecommender\\notebooks\\glocal-K.ipynb Cell 13\u001b[0m line \u001b[0;36m1\n\u001b[0;32m     <a href='vscode-notebook-cell:/c%3A/Users/ADMIN/Documents/GitHub/myrecommender/notebooks/glocal-K.ipynb#X22sZmlsZQ%3D%3D?line=9'>10</a>\u001b[0m w_hat \u001b[39m=\u001b[39m local_kernel(u, v)\n\u001b[0;32m     <a href='vscode-notebook-cell:/c%3A/Users/ADMIN/Documents/GitHub/myrecommender/notebooks/glocal-K.ipynb#X22sZmlsZQ%3D%3D?line=11'>12</a>\u001b[0m sparse_reg \u001b[39m=\u001b[39m keras\u001b[39m.\u001b[39mregularizers\u001b[39m.\u001b[39ml2(lambda_s)\n\u001b[1;32m---> <a href='vscode-notebook-cell:/c%3A/Users/ADMIN/Documents/GitHub/myrecommender/notebooks/glocal-K.ipynb#X22sZmlsZQ%3D%3D?line=12'>13</a>\u001b[0m sparse_reg_term \u001b[39m=\u001b[39m keras\u001b[39m.\u001b[39;49mregularizers(sparse_reg, [w_hat])\n\u001b[0;32m     <a href='vscode-notebook-cell:/c%3A/Users/ADMIN/Documents/GitHub/myrecommender/notebooks/glocal-K.ipynb#X22sZmlsZQ%3D%3D?line=14'>15</a>\u001b[0m l2_reg \u001b[39m=\u001b[39m keras\u001b[39m.\u001b[39mregularizers\u001b[39m.\u001b[39ml2(lambda_2)\n\u001b[0;32m     <a href='vscode-notebook-cell:/c%3A/Users/ADMIN/Documents/GitHub/myrecommender/notebooks/glocal-K.ipynb#X22sZmlsZQ%3D%3D?line=15'>16</a>\u001b[0m l2_reg_term \u001b[39m=\u001b[39m tf\u001b[39m.\u001b[39mkeras\u001b[39m.\u001b[39mregularizers(l2_reg, [W])\n",
      "\u001b[1;31mTypeError\u001b[0m: 'module' object is not callable"
     ]
    }
   ],
   "source": [
    "y = R\n",
    "reg_losses = None\n",
    "\n",
    "for i in range(n_layers):\n",
    "    y, reg_loss = kernel_layer(y, name=str(i))\n",
    "    reg_losses = reg_loss if reg_losses is None else reg_losses + reg_loss\n",
    "\n",
    "pred_p, reg_loss = kernel_layer(y, n_u, activation=tf.identity, name='out')\n",
    "reg_losses = reg_losses + reg_loss\n",
    "\n",
    "# L2 loss\n",
    "diff = train_m * (train_r - pred_p)\n",
    "sqE = tf.nn.l2_loss(diff)\n",
    "loss_p = sqE + reg_losses\n",
    "\n",
    "optimizer_p = tf.optimizers.ScipyOptimizerInterface(loss_p, options={'disp': True, 'maxiter': iter_p, 'maxcor': 10}, method='L-BFGS-B')\n",
    "     "
   ]
  },
  {
   "cell_type": "code",
   "execution_count": 61,
   "metadata": {},
   "outputs": [
    {
     "ename": "AttributeError",
     "evalue": "module 'keras.api._v2.keras.optimizers' has no attribute 'ScipyOptimizerInterface'",
     "output_type": "error",
     "traceback": [
      "\u001b[1;31m---------------------------------------------------------------------------\u001b[0m",
      "\u001b[1;31mAttributeError\u001b[0m                            Traceback (most recent call last)",
      "\u001b[1;32mc:\\Users\\ADMIN\\Documents\\GitHub\\myrecommender\\notebooks\\glocal-K.ipynb Cell 13\u001b[0m line \u001b[0;36m4\n\u001b[0;32m      <a href='vscode-notebook-cell:/c%3A/Users/ADMIN/Documents/GitHub/myrecommender/notebooks/glocal-K.ipynb#X24sZmlsZQ%3D%3D?line=0'>1</a>\u001b[0m \u001b[39mimport\u001b[39;00m \u001b[39mtensorflow\u001b[39;00m \u001b[39mas\u001b[39;00m \u001b[39mtf\u001b[39;00m\n\u001b[0;32m      <a href='vscode-notebook-cell:/c%3A/Users/ADMIN/Documents/GitHub/myrecommender/notebooks/glocal-K.ipynb#X24sZmlsZQ%3D%3D?line=2'>3</a>\u001b[0m \u001b[39m# Tạo một đối tượng ScipyOptimizerInterface\u001b[39;00m\n\u001b[1;32m----> <a href='vscode-notebook-cell:/c%3A/Users/ADMIN/Documents/GitHub/myrecommender/notebooks/glocal-K.ipynb#X24sZmlsZQ%3D%3D?line=3'>4</a>\u001b[0m optimizer \u001b[39m=\u001b[39m tf\u001b[39m.\u001b[39;49moptimizers\u001b[39m.\u001b[39;49mScipyOptimizerInterface(\n\u001b[0;32m      <a href='vscode-notebook-cell:/c%3A/Users/ADMIN/Documents/GitHub/myrecommender/notebooks/glocal-K.ipynb#X24sZmlsZQ%3D%3D?line=4'>5</a>\u001b[0m     optimizer\u001b[39m=\u001b[39m\u001b[39m\"\u001b[39m\u001b[39mL-BFGS-B\u001b[39m\u001b[39m\"\u001b[39m,\n\u001b[0;32m      <a href='vscode-notebook-cell:/c%3A/Users/ADMIN/Documents/GitHub/myrecommender/notebooks/glocal-K.ipynb#X24sZmlsZQ%3D%3D?line=5'>6</a>\u001b[0m     method\u001b[39m=\u001b[39m\u001b[39m\"\u001b[39m\u001b[39mL-BFGS-B\u001b[39m\u001b[39m\"\u001b[39m,\n\u001b[0;32m      <a href='vscode-notebook-cell:/c%3A/Users/ADMIN/Documents/GitHub/myrecommender/notebooks/glocal-K.ipynb#X24sZmlsZQ%3D%3D?line=6'>7</a>\u001b[0m     options\u001b[39m=\u001b[39m{\u001b[39m\"\u001b[39m\u001b[39mmaxiter\u001b[39m\u001b[39m\"\u001b[39m: \u001b[39m100\u001b[39m},\n\u001b[0;32m      <a href='vscode-notebook-cell:/c%3A/Users/ADMIN/Documents/GitHub/myrecommender/notebooks/glocal-K.ipynb#X24sZmlsZQ%3D%3D?line=7'>8</a>\u001b[0m )\n\u001b[0;32m     <a href='vscode-notebook-cell:/c%3A/Users/ADMIN/Documents/GitHub/myrecommender/notebooks/glocal-K.ipynb#X24sZmlsZQ%3D%3D?line=9'>10</a>\u001b[0m \u001b[39m# Tối ưu hóa một hàm mục tiêu với các ràng buộc\u001b[39;00m\n\u001b[0;32m     <a href='vscode-notebook-cell:/c%3A/Users/ADMIN/Documents/GitHub/myrecommender/notebooks/glocal-K.ipynb#X24sZmlsZQ%3D%3D?line=10'>11</a>\u001b[0m \u001b[39mdef\u001b[39;00m \u001b[39mf\u001b[39m(x):\n",
      "File \u001b[1;32mc:\\Users\\ADMIN\\anaconda3\\envs\\recommender-systems\\lib\\site-packages\\tensorflow\\python\\util\\lazy_loader.py:171\u001b[0m, in \u001b[0;36mKerasLazyLoader.__getattr__\u001b[1;34m(self, item)\u001b[0m\n\u001b[0;32m    167\u001b[0m     \u001b[39mraise\u001b[39;00m \u001b[39mAttributeError\u001b[39;00m(\n\u001b[0;32m    168\u001b[0m         \u001b[39mf\u001b[39m\u001b[39m\"\u001b[39m\u001b[39m`\u001b[39m\u001b[39m{\u001b[39;00mitem\u001b[39m}\u001b[39;00m\u001b[39m` is not available with Keras 3.\u001b[39m\u001b[39m\"\u001b[39m\n\u001b[0;32m    169\u001b[0m     )\n\u001b[0;32m    170\u001b[0m module \u001b[39m=\u001b[39m \u001b[39mself\u001b[39m\u001b[39m.\u001b[39m_load()\n\u001b[1;32m--> 171\u001b[0m \u001b[39mreturn\u001b[39;00m \u001b[39mgetattr\u001b[39;49m(module, item)\n",
      "\u001b[1;31mAttributeError\u001b[0m: module 'keras.api._v2.keras.optimizers' has no attribute 'ScipyOptimizerInterface'"
     ]
    }
   ],
   "source": [
    "import tensorflow as tf\n",
    "\n",
    "# Tạo một đối tượng ScipyOptimizerInterface\n",
    "optimizer = tf.optimizers.ScipyOptimizerInterface(\n",
    "    optimizer=\"L-BFGS-B\",\n",
    "    method=\"L-BFGS-B\",\n",
    "    options={\"maxiter\": 100},\n",
    ")\n",
    "\n",
    "# Tối ưu hóa một hàm mục tiêu với các ràng buộc\n",
    "def f(x):\n",
    "    return x[0] ** 2 + x[1] ** 2\n",
    "\n",
    "def g(x):\n",
    "    return x[0] + x[1] - 1\n",
    "\n",
    "x0 = [0.0, 0.0]\n",
    "optimizer.minimize(f, x0, constraints=[g])\n",
    "\n",
    "# Xuất ra giá trị tối ưu\n",
    "print(x0)\n"
   ]
  }
 ],
 "metadata": {
  "kernelspec": {
   "display_name": "recommender-systems",
   "language": "python",
   "name": "python3"
  },
  "language_info": {
   "codemirror_mode": {
    "name": "ipython",
    "version": 3
   },
   "file_extension": ".py",
   "mimetype": "text/x-python",
   "name": "python",
   "nbconvert_exporter": "python",
   "pygments_lexer": "ipython3",
   "version": "3.10.13"
  }
 },
 "nbformat": 4,
 "nbformat_minor": 2
}
